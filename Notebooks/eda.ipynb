{
 "cells": [
  {
   "cell_type": "code",
   "execution_count": 86,
   "metadata": {},
   "outputs": [],
   "source": [
    "import pandas as pd\n",
    "import numpy as np\n",
    "import seaborn as sns\n",
    "import matplotlib.pyplot as plt\n",
    "import sys\n",
    "import os"
   ]
  },
  {
   "cell_type": "code",
   "execution_count": 35,
   "metadata": {},
   "outputs": [],
   "source": [
    "path_to_py = os.path.abspath('../src')"
   ]
  },
  {
   "cell_type": "code",
   "execution_count": 36,
   "metadata": {},
   "outputs": [
    {
     "name": "stdout",
     "output_type": "stream",
     "text": [
      "/Users/gedelasnigda/loan_default/src\n"
     ]
    }
   ],
   "source": [
    "print(path_to_py)"
   ]
  },
  {
   "cell_type": "code",
   "execution_count": 64,
   "metadata": {},
   "outputs": [
    {
     "data": {
      "text/html": [
       "<div>\n",
       "<style scoped>\n",
       "    .dataframe tbody tr th:only-of-type {\n",
       "        vertical-align: middle;\n",
       "    }\n",
       "\n",
       "    .dataframe tbody tr th {\n",
       "        vertical-align: top;\n",
       "    }\n",
       "\n",
       "    .dataframe thead th {\n",
       "        text-align: right;\n",
       "    }\n",
       "</style>\n",
       "<table border=\"1\" class=\"dataframe\">\n",
       "  <thead>\n",
       "    <tr style=\"text-align: right;\">\n",
       "      <th></th>\n",
       "      <th>id</th>\n",
       "      <th>member_id</th>\n",
       "      <th>loan_amnt</th>\n",
       "      <th>term</th>\n",
       "      <th>int_rate</th>\n",
       "      <th>emp_length</th>\n",
       "      <th>home_ownership</th>\n",
       "      <th>annual_inc</th>\n",
       "      <th>desc</th>\n",
       "      <th>purpose</th>\n",
       "      <th>...</th>\n",
       "      <th>inq_last_6mths</th>\n",
       "      <th>mths_since_recent_inq</th>\n",
       "      <th>revol_util</th>\n",
       "      <th>total_bc_limit</th>\n",
       "      <th>mths_since_last_major_derog</th>\n",
       "      <th>tot_hi_cred_lim</th>\n",
       "      <th>tot_cur_bal</th>\n",
       "      <th>application_approved_flag</th>\n",
       "      <th>internal_score</th>\n",
       "      <th>bad_flag</th>\n",
       "    </tr>\n",
       "  </thead>\n",
       "  <tbody>\n",
       "    <tr>\n",
       "      <th>0</th>\n",
       "      <td>10000001</td>\n",
       "      <td>11983056.0</td>\n",
       "      <td>7550</td>\n",
       "      <td>36 months</td>\n",
       "      <td>16.24%</td>\n",
       "      <td>3 years</td>\n",
       "      <td>RENT</td>\n",
       "      <td>28000.0</td>\n",
       "      <td>NaN</td>\n",
       "      <td>debt_consolidation</td>\n",
       "      <td>...</td>\n",
       "      <td>0.0</td>\n",
       "      <td>17.0</td>\n",
       "      <td>72%</td>\n",
       "      <td>4000.0</td>\n",
       "      <td>NaN</td>\n",
       "      <td>3828.953801</td>\n",
       "      <td>5759.0</td>\n",
       "      <td>1</td>\n",
       "      <td>99</td>\n",
       "      <td>0.0</td>\n",
       "    </tr>\n",
       "    <tr>\n",
       "      <th>1</th>\n",
       "      <td>10000002</td>\n",
       "      <td>12002921.0</td>\n",
       "      <td>27050</td>\n",
       "      <td>36 months</td>\n",
       "      <td>10.99%</td>\n",
       "      <td>10+ years</td>\n",
       "      <td>OWN</td>\n",
       "      <td>55000.0</td>\n",
       "      <td>Borrower added on 12/31/13 &gt; Combining high ...</td>\n",
       "      <td>debt_consolidation</td>\n",
       "      <td>...</td>\n",
       "      <td>0.0</td>\n",
       "      <td>8.0</td>\n",
       "      <td>61.20%</td>\n",
       "      <td>35700.0</td>\n",
       "      <td>NaN</td>\n",
       "      <td>34359.940730</td>\n",
       "      <td>114834.0</td>\n",
       "      <td>1</td>\n",
       "      <td>353</td>\n",
       "      <td>0.0</td>\n",
       "    </tr>\n",
       "    <tr>\n",
       "      <th>2</th>\n",
       "      <td>10000003</td>\n",
       "      <td>11983096.0</td>\n",
       "      <td>12000</td>\n",
       "      <td>36 months</td>\n",
       "      <td>10.99%</td>\n",
       "      <td>4 years</td>\n",
       "      <td>RENT</td>\n",
       "      <td>60000.0</td>\n",
       "      <td>Borrower added on 12/31/13 &gt; I would like to...</td>\n",
       "      <td>debt_consolidation</td>\n",
       "      <td>...</td>\n",
       "      <td>1.0</td>\n",
       "      <td>3.0</td>\n",
       "      <td>24%</td>\n",
       "      <td>18100.0</td>\n",
       "      <td>NaN</td>\n",
       "      <td>16416.617760</td>\n",
       "      <td>7137.0</td>\n",
       "      <td>1</td>\n",
       "      <td>157</td>\n",
       "      <td>0.0</td>\n",
       "    </tr>\n",
       "    <tr>\n",
       "      <th>3</th>\n",
       "      <td>10000004</td>\n",
       "      <td>12003142.0</td>\n",
       "      <td>28000</td>\n",
       "      <td>36 months</td>\n",
       "      <td>7.62%</td>\n",
       "      <td>5 years</td>\n",
       "      <td>MORTGAGE</td>\n",
       "      <td>325000.0</td>\n",
       "      <td>NaN</td>\n",
       "      <td>debt_consolidation</td>\n",
       "      <td>...</td>\n",
       "      <td>1.0</td>\n",
       "      <td>3.0</td>\n",
       "      <td>54.60%</td>\n",
       "      <td>42200.0</td>\n",
       "      <td>NaN</td>\n",
       "      <td>38014.149760</td>\n",
       "      <td>799592.0</td>\n",
       "      <td>1</td>\n",
       "      <td>365</td>\n",
       "      <td>0.0</td>\n",
       "    </tr>\n",
       "    <tr>\n",
       "      <th>4</th>\n",
       "      <td>10000005</td>\n",
       "      <td>11993233.0</td>\n",
       "      <td>12000</td>\n",
       "      <td>36 months</td>\n",
       "      <td>13.53%</td>\n",
       "      <td>10+ years</td>\n",
       "      <td>RENT</td>\n",
       "      <td>40000.0</td>\n",
       "      <td>NaN</td>\n",
       "      <td>debt_consolidation</td>\n",
       "      <td>...</td>\n",
       "      <td>0.0</td>\n",
       "      <td>17.0</td>\n",
       "      <td>68.80%</td>\n",
       "      <td>7000.0</td>\n",
       "      <td>53.0</td>\n",
       "      <td>6471.462236</td>\n",
       "      <td>13605.0</td>\n",
       "      <td>1</td>\n",
       "      <td>157</td>\n",
       "      <td>0.0</td>\n",
       "    </tr>\n",
       "  </tbody>\n",
       "</table>\n",
       "<p>5 rows × 23 columns</p>\n",
       "</div>"
      ],
      "text/plain": [
       "         id   member_id  loan_amnt        term int_rate emp_length  \\\n",
       "0  10000001  11983056.0       7550   36 months   16.24%    3 years   \n",
       "1  10000002  12002921.0      27050   36 months   10.99%  10+ years   \n",
       "2  10000003  11983096.0      12000   36 months   10.99%    4 years   \n",
       "3  10000004  12003142.0      28000   36 months    7.62%    5 years   \n",
       "4  10000005  11993233.0      12000   36 months   13.53%  10+ years   \n",
       "\n",
       "  home_ownership  annual_inc  \\\n",
       "0           RENT     28000.0   \n",
       "1            OWN     55000.0   \n",
       "2           RENT     60000.0   \n",
       "3       MORTGAGE    325000.0   \n",
       "4           RENT     40000.0   \n",
       "\n",
       "                                                desc             purpose  ...  \\\n",
       "0                                                NaN  debt_consolidation  ...   \n",
       "1    Borrower added on 12/31/13 > Combining high ...  debt_consolidation  ...   \n",
       "2    Borrower added on 12/31/13 > I would like to...  debt_consolidation  ...   \n",
       "3                                                NaN  debt_consolidation  ...   \n",
       "4                                                NaN  debt_consolidation  ...   \n",
       "\n",
       "   inq_last_6mths  mths_since_recent_inq  revol_util  total_bc_limit  \\\n",
       "0             0.0                   17.0         72%          4000.0   \n",
       "1             0.0                    8.0      61.20%         35700.0   \n",
       "2             1.0                    3.0         24%         18100.0   \n",
       "3             1.0                    3.0      54.60%         42200.0   \n",
       "4             0.0                   17.0      68.80%          7000.0   \n",
       "\n",
       "   mths_since_last_major_derog tot_hi_cred_lim  tot_cur_bal  \\\n",
       "0                          NaN     3828.953801       5759.0   \n",
       "1                          NaN    34359.940730     114834.0   \n",
       "2                          NaN    16416.617760       7137.0   \n",
       "3                          NaN    38014.149760     799592.0   \n",
       "4                         53.0     6471.462236      13605.0   \n",
       "\n",
       "   application_approved_flag  internal_score  bad_flag  \n",
       "0                          1              99       0.0  \n",
       "1                          1             353       0.0  \n",
       "2                          1             157       0.0  \n",
       "3                          1             365       0.0  \n",
       "4                          1             157       0.0  \n",
       "\n",
       "[5 rows x 23 columns]"
      ]
     },
     "execution_count": 64,
     "metadata": {},
     "output_type": "execute_result"
    }
   ],
   "source": [
    "loan_data = pd.read_csv(os.path.join(path_to_py,\"data\",\"training_loan_data.csv\"),skiprows=1)\n",
    "loan_data.head()"
   ]
  },
  {
   "cell_type": "markdown",
   "metadata": {},
   "source": [
    "## Understanding the size of the data and the features present in the data"
   ]
  },
  {
   "cell_type": "code",
   "execution_count": 25,
   "metadata": {},
   "outputs": [
    {
     "name": "stdout",
     "output_type": "stream",
     "text": [
      "<class 'pandas.core.frame.DataFrame'>\n",
      "RangeIndex: 199121 entries, 0 to 199120\n",
      "Data columns (total 23 columns):\n",
      " #   Column                       Non-Null Count   Dtype  \n",
      "---  ------                       --------------   -----  \n",
      " 0   id                           199121 non-null  int64  \n",
      " 1   member_id                    189457 non-null  float64\n",
      " 2   loan_amnt                    199121 non-null  int64  \n",
      " 3   term                         189457 non-null  object \n",
      " 4   int_rate                     189457 non-null  object \n",
      " 5   emp_length                   181531 non-null  object \n",
      " 6   home_ownership               189457 non-null  object \n",
      " 7   annual_inc                   189457 non-null  float64\n",
      " 8   desc                         82004 non-null   object \n",
      " 9   purpose                      189457 non-null  object \n",
      " 10  percent_bc_gt_75             180419 non-null  float64\n",
      " 11  bc_util                      180333 non-null  float64\n",
      " 12  dti                          189457 non-null  float64\n",
      " 13  inq_last_6mths               189457 non-null  float64\n",
      " 14  mths_since_recent_inq        161472 non-null  float64\n",
      " 15  revol_util                   189330 non-null  object \n",
      " 16  total_bc_limit               181962 non-null  float64\n",
      " 17  mths_since_last_major_derog  32749 non-null   float64\n",
      " 18  tot_hi_cred_lim              181962 non-null  float64\n",
      " 19  tot_cur_bal                  161716 non-null  float64\n",
      " 20  application_approved_flag    199121 non-null  int64  \n",
      " 21  internal_score               199121 non-null  int64  \n",
      " 22  bad_flag                     189457 non-null  float64\n",
      "dtypes: float64(12), int64(4), object(7)\n",
      "memory usage: 34.9+ MB\n"
     ]
    }
   ],
   "source": [
    "loan_data.info()"
   ]
  },
  {
   "cell_type": "code",
   "execution_count": 26,
   "metadata": {},
   "outputs": [
    {
     "data": {
      "text/html": [
       "<div>\n",
       "<style scoped>\n",
       "    .dataframe tbody tr th:only-of-type {\n",
       "        vertical-align: middle;\n",
       "    }\n",
       "\n",
       "    .dataframe tbody tr th {\n",
       "        vertical-align: top;\n",
       "    }\n",
       "\n",
       "    .dataframe thead th {\n",
       "        text-align: right;\n",
       "    }\n",
       "</style>\n",
       "<table border=\"1\" class=\"dataframe\">\n",
       "  <thead>\n",
       "    <tr style=\"text-align: right;\">\n",
       "      <th></th>\n",
       "      <th>id</th>\n",
       "      <th>member_id</th>\n",
       "      <th>loan_amnt</th>\n",
       "      <th>annual_inc</th>\n",
       "      <th>percent_bc_gt_75</th>\n",
       "      <th>bc_util</th>\n",
       "      <th>dti</th>\n",
       "      <th>inq_last_6mths</th>\n",
       "      <th>mths_since_recent_inq</th>\n",
       "      <th>total_bc_limit</th>\n",
       "      <th>mths_since_last_major_derog</th>\n",
       "      <th>tot_hi_cred_lim</th>\n",
       "      <th>tot_cur_bal</th>\n",
       "      <th>application_approved_flag</th>\n",
       "      <th>internal_score</th>\n",
       "      <th>bad_flag</th>\n",
       "    </tr>\n",
       "  </thead>\n",
       "  <tbody>\n",
       "    <tr>\n",
       "      <th>count</th>\n",
       "      <td>1.991210e+05</td>\n",
       "      <td>1.894570e+05</td>\n",
       "      <td>199121.000000</td>\n",
       "      <td>1.894570e+05</td>\n",
       "      <td>180419.000000</td>\n",
       "      <td>180333.000000</td>\n",
       "      <td>189457.000000</td>\n",
       "      <td>189457.000000</td>\n",
       "      <td>161472.000000</td>\n",
       "      <td>181962.000000</td>\n",
       "      <td>32749.000000</td>\n",
       "      <td>181962.000000</td>\n",
       "      <td>1.617160e+05</td>\n",
       "      <td>199121.0</td>\n",
       "      <td>199121.000000</td>\n",
       "      <td>189457.000000</td>\n",
       "    </tr>\n",
       "    <tr>\n",
       "      <th>mean</th>\n",
       "      <td>1.009857e+07</td>\n",
       "      <td>5.929626e+06</td>\n",
       "      <td>14071.947334</td>\n",
       "      <td>7.224330e+04</td>\n",
       "      <td>53.575807</td>\n",
       "      <td>66.840867</td>\n",
       "      <td>17.061084</td>\n",
       "      <td>0.803549</td>\n",
       "      <td>6.993634</td>\n",
       "      <td>20239.424699</td>\n",
       "      <td>41.780054</td>\n",
       "      <td>20238.384308</td>\n",
       "      <td>1.373215e+05</td>\n",
       "      <td>1.0</td>\n",
       "      <td>183.967954</td>\n",
       "      <td>0.069293</td>\n",
       "    </tr>\n",
       "    <tr>\n",
       "      <th>std</th>\n",
       "      <td>5.704397e+04</td>\n",
       "      <td>3.339822e+06</td>\n",
       "      <td>8067.076636</td>\n",
       "      <td>5.180483e+04</td>\n",
       "      <td>34.153946</td>\n",
       "      <td>26.111490</td>\n",
       "      <td>7.596941</td>\n",
       "      <td>1.032936</td>\n",
       "      <td>5.879707</td>\n",
       "      <td>18879.795379</td>\n",
       "      <td>20.984599</td>\n",
       "      <td>18941.591779</td>\n",
       "      <td>1.507358e+05</td>\n",
       "      <td>0.0</td>\n",
       "      <td>104.858324</td>\n",
       "      <td>0.253952</td>\n",
       "    </tr>\n",
       "    <tr>\n",
       "      <th>min</th>\n",
       "      <td>1.000000e+07</td>\n",
       "      <td>1.515360e+05</td>\n",
       "      <td>1000.000000</td>\n",
       "      <td>4.800000e+03</td>\n",
       "      <td>0.000000</td>\n",
       "      <td>0.000000</td>\n",
       "      <td>0.000000</td>\n",
       "      <td>0.000000</td>\n",
       "      <td>0.000000</td>\n",
       "      <td>0.000000</td>\n",
       "      <td>0.000000</td>\n",
       "      <td>0.000000</td>\n",
       "      <td>0.000000e+00</td>\n",
       "      <td>1.0</td>\n",
       "      <td>14.000000</td>\n",
       "      <td>0.000000</td>\n",
       "    </tr>\n",
       "    <tr>\n",
       "      <th>25%</th>\n",
       "      <td>1.004958e+07</td>\n",
       "      <td>2.308792e+06</td>\n",
       "      <td>8000.000000</td>\n",
       "      <td>4.500000e+04</td>\n",
       "      <td>25.000000</td>\n",
       "      <td>49.500000</td>\n",
       "      <td>11.340000</td>\n",
       "      <td>0.000000</td>\n",
       "      <td>2.000000</td>\n",
       "      <td>7800.000000</td>\n",
       "      <td>25.000000</td>\n",
       "      <td>7834.720066</td>\n",
       "      <td>2.746575e+04</td>\n",
       "      <td>1.0</td>\n",
       "      <td>105.000000</td>\n",
       "      <td>0.000000</td>\n",
       "    </tr>\n",
       "    <tr>\n",
       "      <th>50%</th>\n",
       "      <td>1.009823e+07</td>\n",
       "      <td>6.060627e+06</td>\n",
       "      <td>12000.000000</td>\n",
       "      <td>6.200000e+04</td>\n",
       "      <td>50.000000</td>\n",
       "      <td>72.200000</td>\n",
       "      <td>16.780000</td>\n",
       "      <td>0.000000</td>\n",
       "      <td>6.000000</td>\n",
       "      <td>14700.000000</td>\n",
       "      <td>41.000000</td>\n",
       "      <td>14637.479485</td>\n",
       "      <td>8.076050e+04</td>\n",
       "      <td>1.0</td>\n",
       "      <td>157.000000</td>\n",
       "      <td>0.000000</td>\n",
       "    </tr>\n",
       "    <tr>\n",
       "      <th>75%</th>\n",
       "      <td>1.014801e+07</td>\n",
       "      <td>8.727745e+06</td>\n",
       "      <td>19600.000000</td>\n",
       "      <td>8.700000e+04</td>\n",
       "      <td>80.000000</td>\n",
       "      <td>89.000000</td>\n",
       "      <td>22.580000</td>\n",
       "      <td>1.000000</td>\n",
       "      <td>11.000000</td>\n",
       "      <td>26500.000000</td>\n",
       "      <td>58.000000</td>\n",
       "      <td>26397.825272</td>\n",
       "      <td>2.082122e+05</td>\n",
       "      <td>1.0</td>\n",
       "      <td>256.000000</td>\n",
       "      <td>0.000000</td>\n",
       "    </tr>\n",
       "    <tr>\n",
       "      <th>max</th>\n",
       "      <td>1.019779e+07</td>\n",
       "      <td>1.209899e+07</td>\n",
       "      <td>35000.000000</td>\n",
       "      <td>7.141778e+06</td>\n",
       "      <td>100.000000</td>\n",
       "      <td>339.600000</td>\n",
       "      <td>34.990000</td>\n",
       "      <td>8.000000</td>\n",
       "      <td>24.000000</td>\n",
       "      <td>522210.000000</td>\n",
       "      <td>165.000000</td>\n",
       "      <td>520643.298200</td>\n",
       "      <td>8.000078e+06</td>\n",
       "      <td>1.0</td>\n",
       "      <td>456.000000</td>\n",
       "      <td>1.000000</td>\n",
       "    </tr>\n",
       "  </tbody>\n",
       "</table>\n",
       "</div>"
      ],
      "text/plain": [
       "                 id     member_id      loan_amnt    annual_inc  \\\n",
       "count  1.991210e+05  1.894570e+05  199121.000000  1.894570e+05   \n",
       "mean   1.009857e+07  5.929626e+06   14071.947334  7.224330e+04   \n",
       "std    5.704397e+04  3.339822e+06    8067.076636  5.180483e+04   \n",
       "min    1.000000e+07  1.515360e+05    1000.000000  4.800000e+03   \n",
       "25%    1.004958e+07  2.308792e+06    8000.000000  4.500000e+04   \n",
       "50%    1.009823e+07  6.060627e+06   12000.000000  6.200000e+04   \n",
       "75%    1.014801e+07  8.727745e+06   19600.000000  8.700000e+04   \n",
       "max    1.019779e+07  1.209899e+07   35000.000000  7.141778e+06   \n",
       "\n",
       "       percent_bc_gt_75        bc_util            dti  inq_last_6mths  \\\n",
       "count     180419.000000  180333.000000  189457.000000   189457.000000   \n",
       "mean          53.575807      66.840867      17.061084        0.803549   \n",
       "std           34.153946      26.111490       7.596941        1.032936   \n",
       "min            0.000000       0.000000       0.000000        0.000000   \n",
       "25%           25.000000      49.500000      11.340000        0.000000   \n",
       "50%           50.000000      72.200000      16.780000        0.000000   \n",
       "75%           80.000000      89.000000      22.580000        1.000000   \n",
       "max          100.000000     339.600000      34.990000        8.000000   \n",
       "\n",
       "       mths_since_recent_inq  total_bc_limit  mths_since_last_major_derog  \\\n",
       "count          161472.000000   181962.000000                 32749.000000   \n",
       "mean                6.993634    20239.424699                    41.780054   \n",
       "std                 5.879707    18879.795379                    20.984599   \n",
       "min                 0.000000        0.000000                     0.000000   \n",
       "25%                 2.000000     7800.000000                    25.000000   \n",
       "50%                 6.000000    14700.000000                    41.000000   \n",
       "75%                11.000000    26500.000000                    58.000000   \n",
       "max                24.000000   522210.000000                   165.000000   \n",
       "\n",
       "       tot_hi_cred_lim   tot_cur_bal  application_approved_flag  \\\n",
       "count    181962.000000  1.617160e+05                   199121.0   \n",
       "mean      20238.384308  1.373215e+05                        1.0   \n",
       "std       18941.591779  1.507358e+05                        0.0   \n",
       "min           0.000000  0.000000e+00                        1.0   \n",
       "25%        7834.720066  2.746575e+04                        1.0   \n",
       "50%       14637.479485  8.076050e+04                        1.0   \n",
       "75%       26397.825272  2.082122e+05                        1.0   \n",
       "max      520643.298200  8.000078e+06                        1.0   \n",
       "\n",
       "       internal_score       bad_flag  \n",
       "count   199121.000000  189457.000000  \n",
       "mean       183.967954       0.069293  \n",
       "std        104.858324       0.253952  \n",
       "min         14.000000       0.000000  \n",
       "25%        105.000000       0.000000  \n",
       "50%        157.000000       0.000000  \n",
       "75%        256.000000       0.000000  \n",
       "max        456.000000       1.000000  "
      ]
     },
     "execution_count": 26,
     "metadata": {},
     "output_type": "execute_result"
    }
   ],
   "source": [
    "loan_data.describe()"
   ]
  },
  {
   "cell_type": "markdown",
   "metadata": {},
   "source": [
    "- The first two columns, **\"id\"** and **\"member_id,\"** are completely unique identifiers for each record. Since they do not contribute to predictive analysis, these columns can be removed.  \n",
    "- The column **\"application_approved_flag\"** contains only a single unique value, **1,** across all rows. As it provides no variance or additional information, this column can also be removed."
   ]
  },
  {
   "cell_type": "code",
   "execution_count": 65,
   "metadata": {},
   "outputs": [],
   "source": [
    "# Drop the columns\n",
    "loan_data.drop(['id','member_id','application_approved_flag'],axis=1,inplace=True)"
   ]
  },
  {
   "cell_type": "markdown",
   "metadata": {},
   "source": [
    "- The 'desc' column appears to contain textual data that is unlikely to contribute to model performance.\n",
    "- We'll verify its content and remove it from the dataset if confirmed."
   ]
  },
  {
   "cell_type": "code",
   "execution_count": 66,
   "metadata": {},
   "outputs": [
    {
     "data": {
      "text/html": [
       "<div>\n",
       "<style scoped>\n",
       "    .dataframe tbody tr th:only-of-type {\n",
       "        vertical-align: middle;\n",
       "    }\n",
       "\n",
       "    .dataframe tbody tr th {\n",
       "        vertical-align: top;\n",
       "    }\n",
       "\n",
       "    .dataframe thead th {\n",
       "        text-align: right;\n",
       "    }\n",
       "</style>\n",
       "<table border=\"1\" class=\"dataframe\">\n",
       "  <thead>\n",
       "    <tr style=\"text-align: right;\">\n",
       "      <th></th>\n",
       "      <th>loan_amnt</th>\n",
       "      <th>term</th>\n",
       "      <th>int_rate</th>\n",
       "      <th>emp_length</th>\n",
       "      <th>home_ownership</th>\n",
       "      <th>annual_inc</th>\n",
       "      <th>purpose</th>\n",
       "      <th>percent_bc_gt_75</th>\n",
       "      <th>bc_util</th>\n",
       "      <th>dti</th>\n",
       "      <th>inq_last_6mths</th>\n",
       "      <th>mths_since_recent_inq</th>\n",
       "      <th>revol_util</th>\n",
       "      <th>total_bc_limit</th>\n",
       "      <th>mths_since_last_major_derog</th>\n",
       "      <th>tot_hi_cred_lim</th>\n",
       "      <th>tot_cur_bal</th>\n",
       "      <th>internal_score</th>\n",
       "      <th>bad_flag</th>\n",
       "    </tr>\n",
       "  </thead>\n",
       "  <tbody>\n",
       "    <tr>\n",
       "      <th>0</th>\n",
       "      <td>7550</td>\n",
       "      <td>36 months</td>\n",
       "      <td>16.24%</td>\n",
       "      <td>3 years</td>\n",
       "      <td>RENT</td>\n",
       "      <td>28000.0</td>\n",
       "      <td>debt_consolidation</td>\n",
       "      <td>100.0</td>\n",
       "      <td>96.0</td>\n",
       "      <td>8.40</td>\n",
       "      <td>0.0</td>\n",
       "      <td>17.0</td>\n",
       "      <td>72%</td>\n",
       "      <td>4000.0</td>\n",
       "      <td>NaN</td>\n",
       "      <td>3828.953801</td>\n",
       "      <td>5759.0</td>\n",
       "      <td>99</td>\n",
       "      <td>0.0</td>\n",
       "    </tr>\n",
       "    <tr>\n",
       "      <th>1</th>\n",
       "      <td>27050</td>\n",
       "      <td>36 months</td>\n",
       "      <td>10.99%</td>\n",
       "      <td>10+ years</td>\n",
       "      <td>OWN</td>\n",
       "      <td>55000.0</td>\n",
       "      <td>debt_consolidation</td>\n",
       "      <td>25.0</td>\n",
       "      <td>53.9</td>\n",
       "      <td>22.87</td>\n",
       "      <td>0.0</td>\n",
       "      <td>8.0</td>\n",
       "      <td>61.20%</td>\n",
       "      <td>35700.0</td>\n",
       "      <td>NaN</td>\n",
       "      <td>34359.940730</td>\n",
       "      <td>114834.0</td>\n",
       "      <td>353</td>\n",
       "      <td>0.0</td>\n",
       "    </tr>\n",
       "  </tbody>\n",
       "</table>\n",
       "</div>"
      ],
      "text/plain": [
       "   loan_amnt        term int_rate emp_length home_ownership  annual_inc  \\\n",
       "0       7550   36 months   16.24%    3 years           RENT     28000.0   \n",
       "1      27050   36 months   10.99%  10+ years            OWN     55000.0   \n",
       "\n",
       "              purpose  percent_bc_gt_75  bc_util    dti  inq_last_6mths  \\\n",
       "0  debt_consolidation             100.0     96.0   8.40             0.0   \n",
       "1  debt_consolidation              25.0     53.9  22.87             0.0   \n",
       "\n",
       "   mths_since_recent_inq revol_util  total_bc_limit  \\\n",
       "0                   17.0        72%          4000.0   \n",
       "1                    8.0     61.20%         35700.0   \n",
       "\n",
       "   mths_since_last_major_derog  tot_hi_cred_lim  tot_cur_bal  internal_score  \\\n",
       "0                          NaN      3828.953801       5759.0              99   \n",
       "1                          NaN     34359.940730     114834.0             353   \n",
       "\n",
       "   bad_flag  \n",
       "0       0.0  \n",
       "1       0.0  "
      ]
     },
     "execution_count": 66,
     "metadata": {},
     "output_type": "execute_result"
    }
   ],
   "source": [
    "# Drop the 'desc' column as it is textual data \n",
    "loan_data.drop('desc',axis=1,inplace=True)\n",
    "\n",
    "# Check if the columns have been dropped\n",
    "loan_data.head(2)"
   ]
  },
  {
   "cell_type": "markdown",
   "metadata": {},
   "source": [
    "## Correcting the datatypes\n",
    "- Upon inspection, it was observed that certain features, which are expected to be numeric, are incorrectly stored as 'object' datatype. This requires conversion to ensure proper analysis and modeling."
   ]
  },
  {
   "cell_type": "markdown",
   "metadata": {},
   "source": [
    "### 'term'"
   ]
  },
  {
   "cell_type": "code",
   "execution_count": 67,
   "metadata": {},
   "outputs": [
    {
     "data": {
      "text/plain": [
       "array([' 36 months', ' 60 months', nan], dtype=object)"
      ]
     },
     "execution_count": 67,
     "metadata": {},
     "output_type": "execute_result"
    }
   ],
   "source": [
    "# Examine unique values to identify appropriate cleaning values\n",
    "loan_data[\"term\"].unique()"
   ]
  },
  {
   "cell_type": "code",
   "execution_count": 68,
   "metadata": {},
   "outputs": [],
   "source": [
    "# Removing 'months' from the column and convert into 'numeric' data type\n",
    "loan_data['term'] = loan_data['term'].str.replace(' months', '', regex=False)\n",
    "loan_data['term'] = pd.to_numeric(loan_data['term'], errors='coerce')          "
   ]
  },
  {
   "cell_type": "markdown",
   "metadata": {},
   "source": [
    "### 'int_rate'"
   ]
  },
  {
   "cell_type": "code",
   "execution_count": 69,
   "metadata": {},
   "outputs": [],
   "source": [
    "# Removing '%' from the column and convert into 'numeric' data type\n",
    "loan_data['int_rate'] = loan_data['int_rate'].str.replace('%', '', regex=False) \n",
    "loan_data['int_rate'] = pd.to_numeric(loan_data['int_rate'], errors='coerce')   "
   ]
  },
  {
   "cell_type": "markdown",
   "metadata": {},
   "source": [
    "### 'emp_length'\n",
    "\n",
    "- Inconsistent representations: The emp_length column contains both numerical values (e.g., '3 years', '10+ years') and a non-numeric value ('< 1 year').\n",
    "- Handle the special case < 1 year and convert it to 0 years (since it implies less than one year).\n",
    "- Convert '10+ years' to 10 (or a reasonable assumption, though you could choose to treat it differently, depending on business needs)."
   ]
  },
  {
   "cell_type": "code",
   "execution_count": 70,
   "metadata": {},
   "outputs": [
    {
     "data": {
      "text/plain": [
       "array(['3 years', '10+ years', '4 years', '5 years', '2 years', '7 years',\n",
       "       '6 years', '1 year', '9 years', '< 1 year', '8 years', nan],\n",
       "      dtype=object)"
      ]
     },
     "execution_count": 70,
     "metadata": {},
     "output_type": "execute_result"
    }
   ],
   "source": [
    "loan_data[\"emp_length\"].unique()"
   ]
  },
  {
   "cell_type": "code",
   "execution_count": 71,
   "metadata": {},
   "outputs": [
    {
     "name": "stdout",
     "output_type": "stream",
     "text": [
      "[ 3. 10.  4.  5.  2.  7.  6.  1.  9.  0.  8. nan]\n"
     ]
    }
   ],
   "source": [
    "# Convert 'emp_length' to numeric years\n",
    "loan_data['emp_length'] = loan_data['emp_length'].replace({'< 1 year': '0 years', '10+ years': '10 years'})\n",
    "\n",
    "# Extract numeric part of the 'emp_length' and convert to integer\n",
    "loan_data['emp_length'] = loan_data['emp_length'].str.extract('(\\d+)').astype(float)\n",
    "\n",
    "# Check the cleaned values\n",
    "print(loan_data['emp_length'].unique())"
   ]
  },
  {
   "cell_type": "markdown",
   "metadata": {},
   "source": [
    "### 'revol_util'"
   ]
  },
  {
   "cell_type": "code",
   "execution_count": 72,
   "metadata": {},
   "outputs": [],
   "source": [
    "# Removing '%' from the column and convert into 'numeric' data type\n",
    "loan_data['revol_util'] = loan_data['revol_util'].str.replace('%', '', regex=False)  \n",
    "loan_data['revol_util'] = pd.to_numeric(loan_data['revol_util'], errors='coerce') "
   ]
  },
  {
   "cell_type": "markdown",
   "metadata": {},
   "source": [
    "## Handling missing values"
   ]
  },
  {
   "cell_type": "markdown",
   "metadata": {},
   "source": [
    "### Analysing missing values\n",
    "- This step calculates and displays the count and percentage of missing values for each column in the dataset. Sorting the table by percentage allows us to quickly identify columns with the highest proportion of missing data. This information helps in deciding on imputation strategies or column removal.\n"
   ]
  },
  {
   "cell_type": "code",
   "execution_count": 73,
   "metadata": {},
   "outputs": [
    {
     "name": "stdout",
     "output_type": "stream",
     "text": [
      "                             Number of Nulls  Percentage of Nulls\n",
      "mths_since_last_major_derog           166372                83.55\n",
      "mths_since_recent_inq                  37649                18.91\n",
      "tot_cur_bal                            37405                18.79\n",
      "bc_util                                18788                 9.44\n",
      "percent_bc_gt_75                       18702                 9.39\n",
      "emp_length                             17590                 8.83\n",
      "tot_hi_cred_lim                        17159                 8.62\n",
      "total_bc_limit                         17159                 8.62\n",
      "revol_util                              9791                 4.92\n",
      "dti                                     9664                 4.85\n",
      "bad_flag                                9664                 4.85\n",
      "inq_last_6mths                          9664                 4.85\n",
      "term                                    9664                 4.85\n",
      "purpose                                 9664                 4.85\n",
      "annual_inc                              9664                 4.85\n",
      "home_ownership                          9664                 4.85\n",
      "int_rate                                9664                 4.85\n",
      "internal_score                             0                 0.00\n",
      "loan_amnt                                  0                 0.00\n"
     ]
    }
   ],
   "source": [
    "# Create a DataFrame to summarize the count and percentage of missing values for each column\n",
    "null_values_table = pd.DataFrame({\n",
    "    'Number of Nulls': loan_data.isnull().sum(),  # Total number of null (missing) values per column\n",
    "    'Percentage of Nulls': round(loan_data.isnull().mean() * 100, 2)  # Percentage of missing values per column, rounded to 2 decimal places\n",
    "})\n",
    "\n",
    "# Sort the table by percentage of missing values in descending order for better visibility\n",
    "null_values_table = null_values_table.sort_values(by='Percentage of Nulls', ascending=False)\n",
    "\n",
    "# Display the summary table of missing values\n",
    "print(null_values_table)"
   ]
  },
  {
   "cell_type": "markdown",
   "metadata": {},
   "source": [
    "### Handling missing values: \"bad_flag\"\n",
    "- The `bad_flag` feature has **4.85% null values**, which is a small proportion of the dataset. We can safely remove the corresponding rows without significant data loss.\n",
    "- Other features, such as `term` and `dti`, have the **exact same number of null values** as `bad_flag`. This suggests that the null values might occur in the **same rows** across both the target and other features."
   ]
  },
  {
   "cell_type": "code",
   "execution_count": 74,
   "metadata": {},
   "outputs": [],
   "source": [
    "# Remove rows where the target variable is null\n",
    "loan_data.dropna(subset=['bad_flag'],inplace=True)"
   ]
  },
  {
   "cell_type": "markdown",
   "metadata": {},
   "source": [
    "### Recalculating Null Values\n",
    "- After removing rows with null values in `bad_flag`, we will recalculate the missing values for other features. This helps verify if the nulls in features with the same number of missing values as `bad_flag` have also been removed."
   ]
  },
  {
   "cell_type": "code",
   "execution_count": 75,
   "metadata": {},
   "outputs": [
    {
     "name": "stdout",
     "output_type": "stream",
     "text": [
      "                             Number of Nulls  Percentage of Nulls\n",
      "mths_since_last_major_derog           156708                82.71\n",
      "mths_since_recent_inq                  27985                14.77\n",
      "tot_cur_bal                            27741                14.64\n",
      "bc_util                                 9124                 4.82\n",
      "percent_bc_gt_75                        9038                 4.77\n",
      "emp_length                              7926                 4.18\n",
      "tot_hi_cred_lim                         7495                 3.96\n",
      "total_bc_limit                          7495                 3.96\n",
      "revol_util                               127                 0.07\n",
      "loan_amnt                                  0                 0.00\n",
      "internal_score                             0                 0.00\n",
      "dti                                        0                 0.00\n",
      "inq_last_6mths                             0                 0.00\n",
      "term                                       0                 0.00\n",
      "purpose                                    0                 0.00\n",
      "annual_inc                                 0                 0.00\n",
      "home_ownership                             0                 0.00\n",
      "int_rate                                   0                 0.00\n",
      "bad_flag                                   0                 0.00\n"
     ]
    }
   ],
   "source": [
    "# Create a DataFrame to summarize the count and percentage of missing values for each column\n",
    "null_values_table = pd.DataFrame({\n",
    "    'Number of Nulls': loan_data.isnull().sum(),  # Total number of null (missing) values per column\n",
    "    'Percentage of Nulls': round(loan_data.isnull().mean() * 100, 2)  # Percentage of missing values per column, rounded to 2 decimal places\n",
    "})\n",
    "\n",
    "# Sort the table by percentage of missing values in descending order for better visibility\n",
    "null_values_table = null_values_table.sort_values(by='Percentage of Nulls', ascending=False)\n",
    "\n",
    "# Display the summary table of missing values\n",
    "print(null_values_table)"
   ]
  },
  {
   "cell_type": "markdown",
   "metadata": {},
   "source": [
    "### Handling missing values: 'mths_since_last_major_derog'\n",
    "\n",
    "- For the column `mths_since_last_major_derog`, null values likely indicate that the customer has never experienced a major credit issue. \n",
    "- **Option 1:** We could fill the null values with 0, which would suggest that no time has passed since the last major derogatory event. However, this might not be ideal, as the column’s minimum value is already 0, which could also represent a customer who had a credit event just the day before.\n",
    "- **Option 2:** Alternatively, we could fill the null values with a large number, such as 999, to clearly distinguish customers who have never had a credit issue from those with a recorded event. Given that the maximum value for this feature is 165, choosing 999 ensures that customers without a major derogatory event are placed in a distinct group."
   ]
  },
  {
   "cell_type": "code",
   "execution_count": 76,
   "metadata": {},
   "outputs": [
    {
     "name": "stdout",
     "output_type": "stream",
     "text": [
      "Minimum value of mths_since_last_major_derog:  0.0\n",
      "Maximum value of mths_since_last_major_derog:  165.0\n"
     ]
    }
   ],
   "source": [
    "print(\"Minimum value of mths_since_last_major_derog: \", loan_data[\"mths_since_last_major_derog\"].min())\n",
    "print(\"Maximum value of mths_since_last_major_derog: \", loan_data[\"mths_since_last_major_derog\"].max())"
   ]
  },
  {
   "cell_type": "code",
   "execution_count": 77,
   "metadata": {},
   "outputs": [],
   "source": [
    "# Fill nulls with a large value\n",
    "loan_data['mths_since_last_major_derog'] = loan_data['mths_since_last_major_derog'].fillna(999)"
   ]
  },
  {
   "cell_type": "markdown",
   "metadata": {},
   "source": [
    "### Handling missing values: 'mths_since_recent_inq'\n",
    "\n",
    "- A credit inquiry typically occurs when someone applies for credit, such as a loan or credit card, and the lender checks their credit report.\n",
    "\n",
    "- **Scenario 1** : In this case, the null values in `mths_since_recent_inq` likely indicate that there have been **no recent inquiries** on the credit report for an extended period.\n",
    "- In such cases, the value for `inq_last_6mths` should also be **0**.\n",
    "- I will use a **larger number** (99) to fill such null value cases to clearly differentiate these customers from those who have a recorded inquiry. The maximum value for this feature is 24, so choosing 99 will ensure that customers with no recent inquiries are grouped separately."
   ]
  },
  {
   "cell_type": "code",
   "execution_count": 53,
   "metadata": {},
   "outputs": [
    {
     "name": "stdout",
     "output_type": "stream",
     "text": [
      "Null values in 'mths_since_recent_inq':\n",
      "27985\n",
      "Null values in 'mths_since_recent_inq' where 'inq_last_6mths' = 0:\n",
      "24158\n"
     ]
    }
   ],
   "source": [
    "# Check how many null values are in the 'mths_since_recent_inq' column\n",
    "print(\"Null values in 'mths_since_recent_inq':\")\n",
    "print(loan_data['mths_since_recent_inq'].isnull().sum())\n",
    "\n",
    "# Check how many null values are present in 'mths_since_recent_inq' where 'inq_last_6mths' is 0\n",
    "print(\"Null values in 'mths_since_recent_inq' where 'inq_last_6mths' = 0:\")\n",
    "print(loan_data[(loan_data['mths_since_recent_inq'].isnull()) & (loan_data['inq_last_6mths'] == 0)].shape[0])"
   ]
  },
  {
   "cell_type": "code",
   "execution_count": 78,
   "metadata": {},
   "outputs": [],
   "source": [
    "# Fill null values in 'mths_since_recent_inq' with 99 where 'inq_last_6mths' equals 0.\n",
    "# This indicates that no recent credit inquiries have occurred, and we want to treat these customers\n",
    "# as a distinct group with a separate value for the 'mths_since_recent_inq' feature.\n",
    "loan_data.loc[\n",
    "    (loan_data['mths_since_recent_inq'].isnull()) & (loan_data['inq_last_6mths'] == 0),\n",
    "    'mths_since_recent_inq'\n",
    "] = 99"
   ]
  },
  {
   "cell_type": "markdown",
   "metadata": {},
   "source": [
    "- Scenario 2: In this scenario, null values in `mths_since_recent_inq` likely indicate that the data is missing due to a lack of recorded information, and therefore, `inq_last_6mths` would be **greater than 0**.\n",
    "  \n",
    "- **Assumption:**\n",
    "  - When `inq_last_6mths > 0`, we can reasonably infer that the `mths_since_recent_inq` value is inversely proportional to the number of recent inquiries. \n",
    "  - **For example:**\n",
    "    - If `inq_last_6mths = 1`, then `mths_since_recent_inq` could be set to a higher value, like 6, indicating the most recent inquiry occurred approximately 6 months ago.\n",
    "    - If `inq_last_6mths = 2`, then `mths_since_recent_inq` could be set to a smaller value, like 3, as multiple recent inquiries suggest a more recent timeframe.\n",
    "  \n",
    "- This imputation strategy is based on domain knowledge and aims to approximate the missing values."
   ]
  },
  {
   "cell_type": "code",
   "execution_count": 55,
   "metadata": {},
   "outputs": [
    {
     "name": "stdout",
     "output_type": "stream",
     "text": [
      "Null values in 'mths_since_recent_inq' where 'inq_last_6mths' != 0:\n",
      "3827\n"
     ]
    }
   ],
   "source": [
    "# Check the number of null values in 'mths_since_recent_inq' where 'inq_last_6mths' is not equal to 0\n",
    "# This will help us identify if there are missing values in 'mths_since_recent_inq' for customers \n",
    "# who have had at least one recent credit inquiry.\n",
    "print(\"Null values in 'mths_since_recent_inq' where 'inq_last_6mths' != 0:\")\n",
    "print(loan_data[(loan_data['mths_since_recent_inq'].isnull()) & (loan_data['inq_last_6mths'] != 0)].shape[0])"
   ]
  },
  {
   "cell_type": "code",
   "execution_count": 79,
   "metadata": {},
   "outputs": [],
   "source": [
    "# Define a function to fill mths_since_recent_inq based on inq_last_6mths\n",
    "def fill_mths_since_recent_inq(row):\n",
    "    if np.isnan(row['mths_since_recent_inq']) and row['inq_last_6mths'] > 0:\n",
    "        if row['inq_last_6mths'] == 1:\n",
    "            return 6  # Assume ~6 months since most recent inquiry\n",
    "        elif row['inq_last_6mths'] == 2:\n",
    "            return 3  # Assume ~3 months since most recent inquiry\n",
    "        elif row['inq_last_6mths'] >= 3:\n",
    "            return 1  # Assume very recent inquiries (~1 month ago)\n",
    "    return row['mths_since_recent_inq']  # Return original value if not null\n",
    "\n",
    "# Apply the function to fill null values\n",
    "loan_data['mths_since_recent_inq'] = loan_data.apply(fill_mths_since_recent_inq, axis=1)"
   ]
  },
  {
   "cell_type": "markdown",
   "metadata": {},
   "source": [
    "### Handling missing values: 'tot_cur_bal'\n",
    "\n",
    "- Null values in the `tot_cur_bal` column likely indicate that the customer does not have any active accounts. In this case, replacing the null values with **0** is appropriate, as a balance of zero accurately reflects the absence of active accounts.\n",
    "\n",
    "- Although `bc_util` is defined as the ratio of `tot_cur_bal` to `total_bc_limit` according to the data dictionary, the exact calculation between these columns is unclear. Therefore, I cannot use `total_bc_limit` or `bc_util` to fill the missing values in `tot_cur_bal`.\n",
    "\n",
    "- Since there are only **32 cases** in the dataset where `tot_cur_bal` is 0 and the dataset is large, replacing null values with 0 is a practical and reasonable decision. The proportion of these cases is very small, so it will not have a significant impact on the overall analysis or modeling results."
   ]
  },
  {
   "cell_type": "code",
   "execution_count": 58,
   "metadata": {},
   "outputs": [
    {
     "data": {
      "text/html": [
       "<div>\n",
       "<style scoped>\n",
       "    .dataframe tbody tr th:only-of-type {\n",
       "        vertical-align: middle;\n",
       "    }\n",
       "\n",
       "    .dataframe tbody tr th {\n",
       "        vertical-align: top;\n",
       "    }\n",
       "\n",
       "    .dataframe thead th {\n",
       "        text-align: right;\n",
       "    }\n",
       "</style>\n",
       "<table border=\"1\" class=\"dataframe\">\n",
       "  <thead>\n",
       "    <tr style=\"text-align: right;\">\n",
       "      <th></th>\n",
       "      <th>tot_cur_bal</th>\n",
       "      <th>total_bc_limit</th>\n",
       "      <th>bc_util</th>\n",
       "    </tr>\n",
       "  </thead>\n",
       "  <tbody>\n",
       "    <tr>\n",
       "      <th>0</th>\n",
       "      <td>5759.0</td>\n",
       "      <td>4000.0</td>\n",
       "      <td>96.0</td>\n",
       "    </tr>\n",
       "    <tr>\n",
       "      <th>1</th>\n",
       "      <td>114834.0</td>\n",
       "      <td>35700.0</td>\n",
       "      <td>53.9</td>\n",
       "    </tr>\n",
       "    <tr>\n",
       "      <th>2</th>\n",
       "      <td>7137.0</td>\n",
       "      <td>18100.0</td>\n",
       "      <td>15.9</td>\n",
       "    </tr>\n",
       "    <tr>\n",
       "      <th>3</th>\n",
       "      <td>799592.0</td>\n",
       "      <td>42200.0</td>\n",
       "      <td>67.1</td>\n",
       "    </tr>\n",
       "    <tr>\n",
       "      <th>4</th>\n",
       "      <td>13605.0</td>\n",
       "      <td>7000.0</td>\n",
       "      <td>79.6</td>\n",
       "    </tr>\n",
       "    <tr>\n",
       "      <th>...</th>\n",
       "      <td>...</td>\n",
       "      <td>...</td>\n",
       "      <td>...</td>\n",
       "    </tr>\n",
       "    <tr>\n",
       "      <th>199116</th>\n",
       "      <td>231039.0</td>\n",
       "      <td>7600.0</td>\n",
       "      <td>100.1</td>\n",
       "    </tr>\n",
       "    <tr>\n",
       "      <th>199117</th>\n",
       "      <td>237446.0</td>\n",
       "      <td>12300.0</td>\n",
       "      <td>66.4</td>\n",
       "    </tr>\n",
       "    <tr>\n",
       "      <th>199118</th>\n",
       "      <td>263553.0</td>\n",
       "      <td>17100.0</td>\n",
       "      <td>97.1</td>\n",
       "    </tr>\n",
       "    <tr>\n",
       "      <th>199119</th>\n",
       "      <td>8387.0</td>\n",
       "      <td>800.0</td>\n",
       "      <td>0.0</td>\n",
       "    </tr>\n",
       "    <tr>\n",
       "      <th>199120</th>\n",
       "      <td>183850.0</td>\n",
       "      <td>36400.0</td>\n",
       "      <td>7.6</td>\n",
       "    </tr>\n",
       "  </tbody>\n",
       "</table>\n",
       "<p>189457 rows × 3 columns</p>\n",
       "</div>"
      ],
      "text/plain": [
       "        tot_cur_bal  total_bc_limit  bc_util\n",
       "0            5759.0          4000.0     96.0\n",
       "1          114834.0         35700.0     53.9\n",
       "2            7137.0         18100.0     15.9\n",
       "3          799592.0         42200.0     67.1\n",
       "4           13605.0          7000.0     79.6\n",
       "...             ...             ...      ...\n",
       "199116     231039.0          7600.0    100.1\n",
       "199117     237446.0         12300.0     66.4\n",
       "199118     263553.0         17100.0     97.1\n",
       "199119       8387.0           800.0      0.0\n",
       "199120     183850.0         36400.0      7.6\n",
       "\n",
       "[189457 rows x 3 columns]"
      ]
     },
     "execution_count": 58,
     "metadata": {},
     "output_type": "execute_result"
    }
   ],
   "source": [
    "loan_data[['tot_cur_bal','total_bc_limit','bc_util']]"
   ]
  },
  {
   "cell_type": "code",
   "execution_count": 59,
   "metadata": {},
   "outputs": [
    {
     "name": "stdout",
     "output_type": "stream",
     "text": [
      "Minimum value of tot_cur_bal:  0.0\n",
      "Maximum value of tot_cur_bal:  8000078.0\n"
     ]
    }
   ],
   "source": [
    "print(\"Minimum value of tot_cur_bal: \", loan_data[\"tot_cur_bal\"].min())\n",
    "print(\"Maximum value of tot_cur_bal: \", loan_data[\"tot_cur_bal\"].max())"
   ]
  },
  {
   "cell_type": "code",
   "execution_count": 60,
   "metadata": {},
   "outputs": [
    {
     "data": {
      "text/plain": [
       "tot_cur_bal\n",
       "0.0          32\n",
       "1.0           1\n",
       "2.0           1\n",
       "5.0           1\n",
       "9.0           1\n",
       "             ..\n",
       "3437283.0     1\n",
       "3471522.0     1\n",
       "3881449.0     1\n",
       "4772549.0     1\n",
       "8000078.0     1\n",
       "Length: 118422, dtype: int64"
      ]
     },
     "execution_count": 60,
     "metadata": {},
     "output_type": "execute_result"
    }
   ],
   "source": [
    "loan_data.groupby('tot_cur_bal').size()"
   ]
  },
  {
   "cell_type": "code",
   "execution_count": 80,
   "metadata": {},
   "outputs": [],
   "source": [
    "# Fill nulls with a 0\n",
    "loan_data['tot_cur_bal'] = loan_data['tot_cur_bal'].fillna(0)"
   ]
  },
  {
   "cell_type": "markdown",
   "metadata": {},
   "source": [
    "### Handling missing values in 'total_bc_limit'\n",
    "\n",
    "- **`total_bc_limit`** refers to the total bankcard high credit/credit limit for a customer.\n",
    "\n",
    "- A null value in the `total_bc_limit` column likely indicates that the customer does not have an active bankcard high credit limit. Out of the 7788 rows with null values in `total_bc_limit`, **7495 rows** have a `tot_cur_bal` of 0. This suggests that most customers with missing `total_bc_limit` also have no active credit balance.\n",
    "\n",
    "- Given this, I will fill the null values in `total_bc_limit` with **0**. This reflects the absence of a high credit limit for customers without an active bankcard.\n",
    "\n",
    "- It is also important to note that even if `total_bc_limit` is 0, the `tot_cur_bal` can still have a value greater than 0. This is because `tot_cur_bal` represents the current balance across **all accounts**, while `total_bc_limit` specifically refers to the credit limit on bankcards only."
   ]
  },
  {
   "cell_type": "code",
   "execution_count": 62,
   "metadata": {},
   "outputs": [
    {
     "name": "stdout",
     "output_type": "stream",
     "text": [
      "Total number of null values in the 'total_bc_limit' column:  7495\n",
      "Number of null values in the 'total_bc_limit' column where 'tot_cur_bal' = 0:  7495\n"
     ]
    }
   ],
   "source": [
    "# Checking the total number of null values in the 'total_bc_limit' column\n",
    "print(\"Total number of null values in the 'total_bc_limit' column: \", loan_data['total_bc_limit'].isnull().sum())\n",
    "\n",
    "# Checking the number of null values in 'total_bc_limit' where 'tot_cur_bal' is 0\n",
    "# This helps us understand if null values in 'total_bc_limit' are associated with customers who have no active balance.\n",
    "count = loan_data[(loan_data['total_bc_limit'].isnull()) & (loan_data['tot_cur_bal'] == 0)].shape[0]\n",
    "print(\"Number of null values in the 'total_bc_limit' column where 'tot_cur_bal' = 0: \", count)"
   ]
  },
  {
   "cell_type": "code",
   "execution_count": 81,
   "metadata": {},
   "outputs": [],
   "source": [
    "# Fill nulls with a 0\n",
    "loan_data['total_bc_limit'] = loan_data['total_bc_limit'].fillna(0)"
   ]
  },
  {
   "cell_type": "markdown",
   "metadata": {},
   "source": [
    "### Handling missing values: 'bc_util'\n",
    "\n",
    "- The 'bc_util' column represents the ratio of the total current balance to the high credit/credit limit for all bankcard accounts.\n",
    "\n",
    "- Although we do not have the exact formula used to derive the 'bc_util' column, it is reasonable to assume that for customers with either a `tot_cur_bal` (total current balance) or `total_bc_limit` (credit limit) of 0, the utilization ratio would logically be 0. This is because a 0 balance or 0 credit limit would result in no utilization.\n",
    "\n",
    "- There are 9124 null values in the `bc_util` column, with 7788 where `tot_cur_bal` is 0 and 9035 where `total_bc_limit` is 0. Since both scenarios imply no credit utilization, we will fill these null values with 0 to indicate no credit utilization"
   ]
  },
  {
   "cell_type": "code",
   "execution_count": 82,
   "metadata": {},
   "outputs": [
    {
     "name": "stdout",
     "output_type": "stream",
     "text": [
      "Number of null values in 'bc_util' :  9124\n",
      "Number of null values in 'bc_util' where tot_cur_bal = 0:  7788\n",
      "Number of null values in 'bc_util' where total_bc_limit = 0:  9035\n"
     ]
    }
   ],
   "source": [
    "# Number of null values in the 'bc_util' column\n",
    "print(\"Number of null values in 'bc_util' : \",loan_data['bc_util'].isnull().sum())\n",
    "\n",
    "# Number of null values in the 'bc_util' where tot_curr_bal is 0\n",
    "count = loan_data[(loan_data['bc_util'].isnull()) & (loan_data['tot_cur_bal'] == 0)].shape[0]\n",
    "print(\"Number of null values in 'bc_util' where tot_cur_bal = 0: \",count)\n",
    "\n",
    "# Number of null values in the 'bc_util' where total_bc_limit is 0\n",
    "count = loan_data[(loan_data['bc_util'].isnull()) & (loan_data['total_bc_limit'] == 0)].shape[0]\n",
    "print(\"Number of null values in 'bc_util' where total_bc_limit = 0: \",count)"
   ]
  },
  {
   "cell_type": "code",
   "execution_count": 83,
   "metadata": {},
   "outputs": [],
   "source": [
    "# Fill nulls with a 0\n",
    "loan_data['bc_util'] = loan_data['bc_util'].fillna(0)"
   ]
  },
  {
   "cell_type": "markdown",
   "metadata": {},
   "source": [
    "### Handling missing values: 'percent_bc_gt_75'\n",
    "\n",
    "- The `percent_bc_gt_75` column represents the percentage of all bankcard accounts with balances greater than 75% of their limit.\n",
    "\n",
    "- When `percent_bc_gt_75` has a null value, it coincides with cases where the `total_bc_limit` is **0**, indicating that the customer does not have an active bankcard credit account.\n",
    "\n",
    "- In these cases, it is reasonable to assume that the percentage of accounts exceeding 75% of the limit would be 0. Therefore, we will fill the null values in the `percent_bc_gt_75` column with 0."
   ]
  },
  {
   "cell_type": "code",
   "execution_count": 84,
   "metadata": {},
   "outputs": [
    {
     "name": "stdout",
     "output_type": "stream",
     "text": [
      "Number of null values in 'percent_bc_gt_75':  9038\n",
      "\n",
      "Number of null values in 'percent_bc_gt_75' where total_bc_limit = 0:  9038\n"
     ]
    }
   ],
   "source": [
    "# Number of null values in the 'percent_bc_gt_75' column\n",
    "print(\"Number of null values in 'percent_bc_gt_75': \",loan_data['percent_bc_gt_75'].isnull().sum())\n",
    "\n",
    "# Number of null values in the 'percent_bc_gt_75' where tot_curr_bal is 0\n",
    "count = loan_data[(loan_data['percent_bc_gt_75'].isnull()) & (loan_data['total_bc_limit'] == 0)].shape[0]\n",
    "print(\"\\nNumber of null values in 'percent_bc_gt_75' where total_bc_limit = 0: \",count)"
   ]
  },
  {
   "cell_type": "code",
   "execution_count": 85,
   "metadata": {},
   "outputs": [],
   "source": [
    "# Fill nulls with a 0\n",
    "loan_data['percent_bc_gt_75'] = loan_data['percent_bc_gt_75'].fillna(0)"
   ]
  },
  {
   "cell_type": "markdown",
   "metadata": {},
   "source": [
    "### Handling missing values: 'emp_length'\n",
    "\n",
    "- Missing values (NaN) can be filled with a reasonable default, such as the median or mode. For employment length, using the median would be a good choice as it represents a middle ground for most employees.\n",
    "- Before that, let's check if there is a relation between `emp_length` and `annual_inc` in order to use 'annual_inc' to fill null values in `emp_length`."
   ]
  },
  {
   "cell_type": "code",
   "execution_count": 90,
   "metadata": {},
   "outputs": [
    {
     "data": {
      "image/png": "[encoded data removed]",
      "text/plain": [
       "<Figure size 640x480 with 1 Axes>"
      ]
     },
     "metadata": {},
     "output_type": "display_data"
    }
   ],
   "source": [
    "sns.scatterplot(x='annual_inc', y='emp_length', data=loan_data)\n",
    "plt.title('Emp Length vs Annual Income')\n",
    "plt.xlabel('Annual Income')\n",
    "plt.ylabel('Emp Length')\n",
    "plt.show()\n"
   ]
  },
  {
   "cell_type": "markdown",
   "metadata": {},
   "source": [
    "- There appears to be no clear or significant relationship between employee length and annual income. Therefore, we will fill the null values in the 'emp_length' column using the median value."
   ]
  },
  {
   "cell_type": "code",
   "execution_count": 98,
   "metadata": {},
   "outputs": [
    {
     "name": "stdout",
     "output_type": "stream",
     "text": [
      "[ 3. 10.  4.  5.  2.  7.  6.  1.  9.  0.  8.]\n"
     ]
    }
   ],
   "source": [
    "# Handle missing values by filling with the median of the column\n",
    "loan_data['emp_length'].fillna(loan_data['emp_length'].median(), inplace=True)\n",
    "\n",
    "# Check the cleaned values\n",
    "print(loan_data['emp_length'].unique())"
   ]
  },
  {
   "cell_type": "markdown",
   "metadata": {},
   "source": [
    "### Handling missing values:  'tot_hi_cred_lim'\n",
    "\n",
    "- The `tot_hi_cred_lim` column represents the total high credit/credit limit.\n",
    "\n",
    "- When the `tot_cur_bal` is null (which we have already filled with 0), the corresponding `tot_hi_cred_lim` is null, indicating that the customer does not have an active account.\n",
    "\n",
    "- In these cases, the total high credit/credit limit should logically be 0. Therefore, we will fill the null values in the `tot_hi_cred_lim` column with 0."
   ]
  },
  {
   "cell_type": "code",
   "execution_count": 99,
   "metadata": {},
   "outputs": [
    {
     "name": "stdout",
     "output_type": "stream",
     "text": [
      "Number of null values in 'tot_hi_cred_lim':  7495\n",
      "Number of null values in 'tot_hi_cred_lim' where tot_cur_bal is 0:  7495\n"
     ]
    }
   ],
   "source": [
    "# Number of null values in the 'tot_hi_cred_lim' column\n",
    "print(\"Number of null values in 'tot_hi_cred_lim': \",loan_data['tot_hi_cred_lim'].isnull().sum())\n",
    "\n",
    "\n",
    "# Number of null values in the 'tot_hi_cred_lim' where tot_curr_bal is 0\n",
    "count = loan_data[(loan_data['tot_hi_cred_lim'].isnull()) & (loan_data['tot_cur_bal'] == 0)].shape[0]\n",
    "print(\"Number of null values in 'tot_hi_cred_lim' where tot_cur_bal is 0: \",count)"
   ]
  },
  {
   "cell_type": "code",
   "execution_count": 100,
   "metadata": {},
   "outputs": [],
   "source": [
    "# Fill nulls with a 0\n",
    "loan_data['tot_hi_cred_lim'] = loan_data['tot_hi_cred_lim'].fillna(0)"
   ]
  },
  {
   "cell_type": "markdown",
   "metadata": {},
   "source": [
    "### Handling missing values: 'revol_util'\n",
    "\n",
    "- The `revol_util` column represents the revolving line utilization rate, which is the amount of credit the borrower is using relative to all available revolving credit.\n",
    "\n",
    "- Based on the analysis of null values in this column, we cannot conclusively determine if the missing values are due to the customer not having a credit card, making it impossible to calculate the revolving utilization rate.\n",
    "\n",
    "- While borrowers with low credit utilization (close to 0) are generally considered low risk for credit management, filling the missing values with 0 would be misleading. Similarly, filling with a higher value would not be appropriate, as we cannot assume the customer is negligent in managing their credit.\n",
    "\n",
    "- It is reasonable to assume that '`revol_util` could be 0 if the `dti` (debt-to-income ratio) is 0, but there are only 4 such cases.\n",
    "\n",
    "- Given that there are only 121 rows with missing values in this column, and 113 of these cases have a 'bad_flag' of 0, which is a much larger proportion of the dataset, the data loss from removing these rows will be minimal. Therefore, we will remove these rows with null values in 'revol_util'."
   ]
  },
  {
   "cell_type": "code",
   "execution_count": 101,
   "metadata": {},
   "outputs": [
    {
     "name": "stdout",
     "output_type": "stream",
     "text": [
      "Total number of null values in the 'revol_util' column:  127\n",
      "Number of null values in the 'revol_util' column where tot_cur_bal = 0:  37\n",
      "Number of null values in the 'revol_util' column where total_bc_limit = 0:  110\n",
      "Number of null values in the 'revol_util' column where tot_hi_cred_lim = 0:  110\n"
     ]
    }
   ],
   "source": [
    "# Number of null values in the 'revol_util' column\n",
    "print(\"Total number of null values in the 'revol_util' column: \",loan_data['revol_util'].isnull().sum())\n",
    "\n",
    "# Number of null values in the 'revol_util' where tot_curr_bal is 0\n",
    "count = loan_data[(loan_data['revol_util'].isnull()) & (loan_data['tot_cur_bal'] == 0)].shape[0]\n",
    "print(\"Number of null values in the 'revol_util' column where tot_cur_bal = 0: \",count)\n",
    "\n",
    "# Number of null values in the 'revol_util' where total_bc_limit is 0\n",
    "count = loan_data[(loan_data['revol_util'].isnull()) & (loan_data['total_bc_limit'] == 0)].shape[0]\n",
    "print(\"Number of null values in the 'revol_util' column where total_bc_limit = 0: \",count)\n",
    "\n",
    "# Number of null values in the 'revol_util' where tot_hi_cred_lim is 0\n",
    "count = loan_data[(loan_data['revol_util'].isnull()) & (loan_data['tot_hi_cred_lim'] == 0)].shape[0]\n",
    "print(\"Number of null values in the 'revol_util' column where tot_hi_cred_lim = 0: \",count)"
   ]
  },
  {
   "cell_type": "code",
   "execution_count": 102,
   "metadata": {},
   "outputs": [
    {
     "data": {
      "text/html": [
       "<div>\n",
       "<style scoped>\n",
       "    .dataframe tbody tr th:only-of-type {\n",
       "        vertical-align: middle;\n",
       "    }\n",
       "\n",
       "    .dataframe tbody tr th {\n",
       "        vertical-align: top;\n",
       "    }\n",
       "\n",
       "    .dataframe thead th {\n",
       "        text-align: right;\n",
       "    }\n",
       "</style>\n",
       "<table border=\"1\" class=\"dataframe\">\n",
       "  <thead>\n",
       "    <tr style=\"text-align: right;\">\n",
       "      <th></th>\n",
       "      <th>revol_util</th>\n",
       "      <th>dti</th>\n",
       "    </tr>\n",
       "  </thead>\n",
       "  <tbody>\n",
       "    <tr>\n",
       "      <th>60949</th>\n",
       "      <td>NaN</td>\n",
       "      <td>0.0</td>\n",
       "    </tr>\n",
       "    <tr>\n",
       "      <th>73505</th>\n",
       "      <td>NaN</td>\n",
       "      <td>0.0</td>\n",
       "    </tr>\n",
       "    <tr>\n",
       "      <th>127456</th>\n",
       "      <td>NaN</td>\n",
       "      <td>0.0</td>\n",
       "    </tr>\n",
       "    <tr>\n",
       "      <th>180502</th>\n",
       "      <td>NaN</td>\n",
       "      <td>0.0</td>\n",
       "    </tr>\n",
       "  </tbody>\n",
       "</table>\n",
       "</div>"
      ],
      "text/plain": [
       "        revol_util  dti\n",
       "60949          NaN  0.0\n",
       "73505          NaN  0.0\n",
       "127456         NaN  0.0\n",
       "180502         NaN  0.0"
      ]
     },
     "execution_count": 102,
     "metadata": {},
     "output_type": "execute_result"
    }
   ],
   "source": [
    "# Looking at rows where revol_util is null and dti = 0\n",
    "loan_data[(loan_data['revol_util'].isnull()) & (loan_data['dti']==0)][['revol_util','dti']]"
   ]
  },
  {
   "cell_type": "code",
   "execution_count": 103,
   "metadata": {},
   "outputs": [
    {
     "data": {
      "text/plain": [
       "bad_flag\n",
       "0.0    113\n",
       "1.0     14\n",
       "dtype: int64"
      ]
     },
     "execution_count": 103,
     "metadata": {},
     "output_type": "execute_result"
    }
   ],
   "source": [
    "# Filtering data where 'revol_util' is null\n",
    "nullValue_revol_util = loan_data[loan_data['revol_util'].isnull()]\n",
    "\n",
    "# Count of each bad_flag \n",
    "nullValue_revol_util.groupby('bad_flag').size()"
   ]
  },
  {
   "cell_type": "code",
   "execution_count": 104,
   "metadata": {},
   "outputs": [
    {
     "name": "stdout",
     "output_type": "stream",
     "text": [
      "Number of rows before removing rows:  189457\n",
      "0\n",
      "Number of rows after removing rows:  189330\n"
     ]
    }
   ],
   "source": [
    "# Dropping the rows where 'revol_util' is null\n",
    "\n",
    "print(\"Number of rows before removing rows: \",loan_data.shape[0])\n",
    "\n",
    "# Drop rows where 'revol_util' is null\n",
    "loan_data = loan_data.dropna(subset=['revol_util'])\n",
    "\n",
    "# Verify the null values are removed\n",
    "print(loan_data['revol_util'].isnull().sum())\n",
    "\n",
    "print(\"Number of rows after removing rows: \",loan_data.shape[0])"
   ]
  },
  {
   "cell_type": "markdown",
   "metadata": {},
   "source": [
    "### Checking if we handled all the nulls in the data"
   ]
  },
  {
   "cell_type": "code",
   "execution_count": 105,
   "metadata": {},
   "outputs": [
    {
     "name": "stdout",
     "output_type": "stream",
     "text": [
      "Total number of null values in the dataset:  0\n"
     ]
    }
   ],
   "source": [
    "# Total number of null values in the dataset\n",
    "total_nulls = loan_data.isnull().sum().sum()\n",
    "print(\"Total number of null values in the dataset: \", total_nulls)"
   ]
  },
  {
   "cell_type": "code",
   "execution_count": null,
   "metadata": {},
   "outputs": [],
   "source": []
  }
 ],
 "metadata": {
  "kernelspec": {
   "display_name": "base",
   "language": "python",
   "name": "python3"
  },
  "language_info": {
   "codemirror_mode": {
    "name": "ipython",
    "version": 3
   },
   "file_extension": ".py",
   "mimetype": "text/x-python",
   "name": "python",
   "nbconvert_exporter": "python",
   "pygments_lexer": "ipython3",
   "version": "3.11.5"
  }
 },
 "nbformat": 4,
 "nbformat_minor": 2
}
